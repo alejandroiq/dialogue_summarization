{
  "nbformat": 4,
  "nbformat_minor": 0,
  "metadata": {
    "colab": {
      "provenance": [],
      "toc_visible": true
    },
    "kernelspec": {
      "name": "python3",
      "display_name": "Python 3"
    },
    "language_info": {
      "name": "python"
    }
  },
  "cells": [
    {
      "cell_type": "markdown",
      "source": [
        "# ACME\n"
      ],
      "metadata": {
        "id": "d23TgwMkynJG"
      }
    },
    {
      "cell_type": "markdown",
      "source": [
        "# Detailed Plan\n",
        "\n",
        "Bold letters are the steps covered in ths notebook\n",
        "\n",
        "1.\tData Ingestion & Splitting. Load Dataset, it is already into train (90%), validation (5%), and test (5%). Then, verify data quality, label integrity and clean.\n",
        "\n",
        "2.\tDescriptive Analytics & KPIs. Run basic stats and define evaluation KPIs like ROUGE-Lsum, summary length and compression ratio to guide model selection and track progress.\n",
        "\n",
        "3.\tModel Selection (Baseline Shootout). Benchmark BERT2BERT vs GPT-2 under the same preprocessing and decoding setup; select the stronger baseline using ROUGE-Lsum plus quick qualitative checks.\n",
        "\n",
        "4.\tPhase A — Training Optimization. Tune core training hyperparameters (learning rate, weight decay, label smoothing, warmup) with a data subset to establish the best fine-tuned checkpoint.\n",
        "\n",
        "5.\tPhase B — Decoding Optimization (Inference Only). Run a full-validation grid over num_beams, length_penalty, no_repeat_ngram_size, max_new_tokens to improve output quality without retraining.\n",
        "\n",
        "6.\t**Targeted Case Reviews. Assess faithfulness and tone on three representative examples (idx 654, 114, 25) to validate real-world usefulness beyond metrics.**\n",
        "\n",
        "7.\t**Final Diagnostics & Readiness Check. Summarize length distributions, compression ratios, and generated vs. reference comparisons; document risks and guardrails to ensure summaries are concise, accurate, and deployment ready.**\n"
      ],
      "metadata": {
        "id": "E0afq2Zqu9Hk"
      }
    },
    {
      "cell_type": "markdown",
      "source": [
        "**Notebook 3 (sampling)**\n",
        "\n",
        "In this section, I will focus on applying the best-performing model from Phase A. The model checkpoint, previously identified through systematic hyperparameter exploration, is retrieved directly from my Google Drive. Rather than repeating the full evaluation pipeline, I restrict the experiment to three specific validation samples (indices 654, 114, and 25).\n",
        "\n",
        "The purpose is to provide a qualitative inspection of the model’s behavior on real dialogues. For each sample, I present the original conversation, the human-written reference summary, and the model-generated summary. This comparison offers a transparent view of how well the model captures key information in unseen text.\n",
        "\n",
        "It is important to note that I am not re-running ROUGE evaluation here, as quantitative scoring was already completed in Project_Variant_2. Instead, this exercise serves as a complementary check—highlighting strengths and potential shortcomings of the best Phase A model when applied to individual examples."
      ],
      "metadata": {
        "id": "OuNvc_UXyyVs"
      }
    },
    {
      "cell_type": "markdown",
      "source": [
        "# ROUGE Metric\n",
        "\n",
        "ROUGE (Recall-Oriented Understudy for Gisting Evaluation) is a family of metrics for summarization that compares a model’s output against human-written reference (Exactly what we have fo ACME) summaries by measuring n-gram overlap (e.g., unigrams, bigrams, or longer sequences). In simple terms, it checks how many of the same words and phrases appear in both the generated and reference summaries.\n",
        "\n",
        "ROUGE is the most widely used evaluation metric for text summarization research, making results comparable to prior work. Since SAMSum provides human-written reference summaries, ROUGE directly measures how well the model reproduces the essential content. ROUGE can be computed quickly and consistently across thousands of validation examples, which is crucial in Phase A (model sweeps) and Phase B (decoding sweeps).\n",
        "\n",
        "Even though ROUGE does not capture humor or pragmatic tone, it provides a stable and quantitative way to rank candidate models or decoding strategies, which was exactly the goal in both Phase A and Phase B.\n",
        "\n",
        "In short, ROUGE is simple, fast, and well-aligned with the SAMSum benchmark, making it the right choice for model selection across both phases."
      ],
      "metadata": {
        "id": "bQwcPKHq0zqN"
      }
    },
    {
      "cell_type": "markdown",
      "source": [
        "## Why ROUGE-Lsum?\n",
        "\n",
        "Within the ROUGE family, we used ROUGE-Lsum as the primary selection metric.\n",
        "\n",
        "ROUGE-L measures the Longest Common Subsequence (LCS) between the generated summary and the reference. Unlike fixed n-grams, it rewards sequences of words that appear in the same order, even if they are not strictly consecutive. This makes it better at capturing sentence-level fluency.\n",
        "\n",
        "The “-sum” variant adapts ROUGE-L specifically for summarization tasks: it applies the LCS comparison at the summary level (multiple sentences) rather than treating the text as one long string. This avoids unfair penalties when sentence boundaries differ between model and reference.\n",
        "\n",
        "Why it fits Phase A and Phase B? In SAMSum, summaries are short (often one or two sentences) and rely on capturing the main idea in order. ROUGE-Lsum is sensitive to this structure, making it more reliable than ROUGE-1 (just word overlap) or ROUGE-2 (short phrase overlap) when ranking models.\n",
        "\n",
        "In short, ROUGE-Lsum balances precision and recall while respecting sentence boundaries, making it a strong metric for evaluating abstractive dialogue summaries in both training (Phase A) and decoding optimization (Phase B)."
      ],
      "metadata": {
        "id": "gwz7ymYQ1Yb6"
      }
    },
    {
      "cell_type": "markdown",
      "source": [
        "# Phase A - Results"
      ],
      "metadata": {
        "id": "pQgPbMfbBNsv"
      }
    },
    {
      "cell_type": "markdown",
      "source": [
        "This code inspects the current Colab working directory to identify any saved Phase A experiment folders and verify whether valid encoder–decoder model checkpoints are present. It first lists the top-level files, then searches for Phase A run directories, and finally scans recursively for config.json files containing an encoder-decoder model type. This ensures that the correct checkpoints are available before reloading the best model for inference."
      ],
      "metadata": {
        "id": "f5woUz-fBsO3"
      }
    },
    {
      "cell_type": "code",
      "source": [
        "from google.colab import drive\n",
        "drive.mount('/content/drive')\n",
        "BASE = Path('/content/drive/MyDrive/Colab Notebooks/EIA')"
      ],
      "metadata": {
        "colab": {
          "base_uri": "https://localhost:8080/"
        },
        "id": "sVLrq6ZV3guK",
        "outputId": "02fbd833-40da-440f-d519-1dd67b140f87"
      },
      "execution_count": 3,
      "outputs": [
        {
          "output_type": "stream",
          "name": "stdout",
          "text": [
            "Mounted at /content/drive\n"
          ]
        }
      ]
    },
    {
      "cell_type": "code",
      "source": [
        "# What’s in the current working dir?\n",
        "\n",
        "import os, glob, json, pathlib\n",
        "from pathlib import Path\n",
        "\n",
        "print(\"CWD:\", Path(\".\").resolve())\n",
        "print(\"Top-level dirs/files:\", os.listdir(\".\"))\n",
        "\n",
        "# B. Find any Phase-A-like folders in /content (current runtime)\n",
        "cands = sorted(glob.glob(\"/content/b2b-hpo-*\"))\n",
        "print(\"\\nCandidates under /content:\")\n",
        "for c in cands:\n",
        "    print(\" -\", c)\n",
        "\n",
        "# C. More robust: search for *encoder-decoder* configs anywhere under /content\n",
        "hits = []\n",
        "for cfg in glob.glob(\"/content/**/config.json\", recursive=True):\n",
        "    try:\n",
        "        with open(cfg, \"r\") as f:\n",
        "            j = json.load(f)\n",
        "        if \"model_type\" in j and j[\"model_type\"] == \"encoder-decoder\":\n",
        "            hits.append(cfg)\n",
        "    except Exception:\n",
        "        pass\n",
        "\n",
        "print(\"\\nEncoder-decoder configs found under /content:\")\n",
        "for h in hits:\n",
        "    print(\" -\", h, \" (parent:\", str(Path(h).parent), \")\")"
      ],
      "metadata": {
        "colab": {
          "base_uri": "https://localhost:8080/"
        },
        "id": "TsKBkWz9y9Ew",
        "outputId": "b6734925-cfd6-4720-8ec7-ae76bf881d59"
      },
      "execution_count": 9,
      "outputs": [
        {
          "output_type": "stream",
          "name": "stdout",
          "text": [
            "CWD: /content\n",
            "Top-level dirs/files: ['.config', 'drive', 'sample_data']\n",
            "\n",
            "Candidates under /content:\n",
            "\n",
            "Encoder-decoder configs found under /content:\n",
            " - /content/drive/MyDrive/bert2bert_samsum_checkpoint/config.json  (parent: /content/drive/MyDrive/bert2bert_samsum_checkpoint )\n"
          ]
        }
      ]
    },
    {
      "cell_type": "markdown",
      "source": [
        "The following code reloads the best Phase A checkpoint from Google Drive for inference. It first inspects the directory to check for available sub-checkpoints, then selects the most recent one. The model and tokenizer are loaded locally (without relying on the Hugging Face Hub), and the necessary configuration values—such as decoder start, end-of-sequence, and padding tokens—are set to ensure the model can properly generate summaries."
      ],
      "metadata": {
        "id": "CDiTk16kCsyt"
      }
    },
    {
      "cell_type": "code",
      "source": [
        "from pathlib import Path\n",
        "from transformers import EncoderDecoderModel, AutoTokenizer\n",
        "\n",
        "best_dir = Path(\"/content/drive/MyDrive/bert2bert_samsum_checkpoint\")\n",
        "\n",
        "# 1) Inspect what's inside\n",
        "print(\"Contents:\", [p.name for p in best_dir.iterdir()])\n",
        "\n",
        "# 2) If this is a *root run dir* with checkpoint-* subfolders, hop to the newest checkpoint\n",
        "ckpts = sorted(best_dir.glob(\"checkpoint-*\"), key=lambda p: int(p.name.split(\"-\")[-1]))\n",
        "load_dir = ckpts[-1] if ckpts else best_dir\n",
        "print(\"Loading from:\", load_dir)\n",
        "\n",
        "# 3) Load model locally (no Hub). This folder must contain: config.json + pytorch_model.bin (or safetensors)\n",
        "best_model = EncoderDecoderModel.from_pretrained(str(load_dir), local_files_only=True)\n",
        "\n",
        "# 4) Load tokenizer (prefer the same folder; otherwise fall back to your base tokenizer)\n",
        "try:\n",
        "    tokenizer = AutoTokenizer.from_pretrained(str(best_dir), local_files_only=True)\n",
        "except Exception:\n",
        "    tokenizer = AutoTokenizer.from_pretrained(enc_dec_name)  # fallback to your original tokenizer\n",
        "print(\"Model & tokenizer loaded!\")\n",
        "\n",
        "# 5) Set generation-time IDs and enable cache for inference\n",
        "best_model.config.decoder_start_token_id = tokenizer.cls_token_id\n",
        "best_model.config.eos_token_id           = tokenizer.sep_token_id\n",
        "best_model.config.pad_token_id           = tokenizer.pad_token_id\n",
        "best_model.config.use_cache              = True"
      ],
      "metadata": {
        "colab": {
          "base_uri": "https://localhost:8080/"
        },
        "id": "hNUrphMPzHno",
        "outputId": "f691d94f-21f1-4965-9a76-cf30d508c16f"
      },
      "execution_count": 4,
      "outputs": [
        {
          "output_type": "stream",
          "name": "stdout",
          "text": [
            "Contents: ['ds_train', 'ds_val', 'config.json', 'generation_config.json', 'model.safetensors', 'trainer_state.json', 'tokenizer_config.json', 'tokenizer.json', 'vocab.txt', 'special_tokens_map.json', 'training_args.bin']\n",
            "Loading from: /content/drive/MyDrive/bert2bert_samsum_checkpoint\n",
            "Model & tokenizer loaded!\n"
          ]
        }
      ]
    },
    {
      "cell_type": "markdown",
      "source": [
        "The following code loads the SAMSum dataset and prepares the train, validation, and test splits, filtering out any missing values. It defines a helper function to generate summaries with the already-loaded best model and tokenizer, and a wrapper for clean text display. Finally, it runs inference on three selected validation samples (indices 654, 114, and 25), printing each dialogue along with its reference and model-generated summary for direct qualitative comparison."
      ],
      "metadata": {
        "id": "6B_I3ebUC_Ib"
      }
    },
    {
      "cell_type": "code",
      "source": [
        "import torch, textwrap\n",
        "from datasets import load_dataset\n",
        "\n",
        "# best_model.to(\"cpu\")\n",
        "# best_model.to(\"cuda\")\n",
        "\n",
        "dataset = load_dataset(\"knkarthick/samsum\")\n",
        "\n",
        "# Train and clean the missing value\n",
        "train = dataset[\"train\"]\n",
        "train = train.filter(lambda ex: ex[\"dialogue\"] is not None)\n",
        "\n",
        "# Validation\n",
        "validation = dataset[\"validation\"]\n",
        "\n",
        "# Test\n",
        "test = dataset[\"test\"]\n",
        "\n",
        "#    Generation helper (uses your already-loaded best_model + tokenizer)\n",
        "#    Assumes you already did:\n",
        "#    best_model.to(\"cuda\"); best_model.eval();\n",
        "#    and set generation_config on best_model (num_beams, max_new_tokens, etc.)\n",
        "def generate_summary(dialogue: str, max_input_len=512):\n",
        "    inputs = tokenizer(\n",
        "        dialogue,\n",
        "        return_tensors=\"pt\",\n",
        "        truncation=True,\n",
        "        padding=True,\n",
        "        max_length=max_input_len,\n",
        "    ) #.to(\"cuda\")\n",
        "\n",
        "    with torch.no_grad():\n",
        "        generated_ids = best_model.generate(**inputs)\n",
        "    return tokenizer.decode(generated_ids[0], skip_special_tokens=True)\n",
        "\n",
        "import textwrap\n",
        "\n",
        "def wrap(text, width=100):\n",
        "    return \"\\n\".join(textwrap.wrap(text, width))\n",
        "\n",
        "# Run on your three indices chosen\n",
        "indices = [654, 114, 25]\n",
        "for idx in indices:\n",
        "    dlg = validation[idx][\"dialogue\"]\n",
        "    ref = validation[idx][\"summary\"]\n",
        "    pred = generate_summary(dlg)\n",
        "\n",
        "    print(\"\\n\" + \"=\"*120)\n",
        "    print(f\"idx={idx} | dialogue_len={len(dlg)} chars\")\n",
        "    print(\"\\n- Dialogue -\")\n",
        "    print(wrap(dlg[:1200]))\n",
        "    if len(dlg) > 1200:\n",
        "        print(\"... [truncated]\")\n",
        "    print(\"\\n- Reference summary -\")\n",
        "    print(wrap(ref))\n",
        "    print(\"\\n- Model summary -\")\n",
        "    print(wrap(pred))\n",
        "    print(\"=\"*120)"
      ],
      "metadata": {
        "colab": {
          "base_uri": "https://localhost:8080/"
        },
        "id": "cIv-o4kRzIYQ",
        "outputId": "1b6cb6e4-ea87-4ea1-b63f-05c73c09ef66"
      },
      "execution_count": 8,
      "outputs": [
        {
          "output_type": "stream",
          "name": "stdout",
          "text": [
            "\n",
            "========================================================================================================================\n",
            "idx=654 | dialogue_len=154 chars\n",
            "\n",
            "- Dialogue -\n",
            "George: Fun fact time XD George: IQ decreases by 20% after a 2-week holiday Pete: lol  Matt: haha\n",
            "wonder what happens after a gap year xD Pete: <file_gif>\n",
            "\n",
            "- Reference summary -\n",
            "IQ decreases by 20% after a 2-week holiday.\n",
            "\n",
            "- Model summary -\n",
            "george's iq decreases by 20 % after a 2 - week holiday. he's looking forward to the fun fact that iq\n",
            "is 20 % faster after a two - week break. pete is worried about his iq after a gap year. he is\n",
            "looking for a new fact time.\n",
            "========================================================================================================================\n",
            "\n",
            "========================================================================================================================\n",
            "idx=114 | dialogue_len=2672 chars\n",
            "\n",
            "- Dialogue -\n",
            "Kyle: Who wants to go out for a drink? Megan: No, sorry, I'm cleaning the house today. Roseanne:\n",
            "You've always loved cleaning, haven't you? I remember how angry you used to get with your brother\n",
            "for leaving a mess in the kitchen. Vince: Yeah, she'd always yell at me, even though I was the one\n",
            "in charge when our parents were away. Kyle: I don't get why it matters so much whether I clean my\n",
            "flat once a week or once a month. No one died from a bit of dust. Megan: Remind me to never stay at\n",
            "your place :P Roseanne: I'm somewhere in between. My house is always a mess, but I hate it when it's\n",
            "dirty. Vince: What's the difference? Roseanne: I can't stand when there's dust, crumbs on the floor\n",
            "etc., so I clean regularly. But I love it when all my stuff just lies around. When I put everything\n",
            "back on shelves or into cabinets, I keep on getting mad that I have to look for it, get up and take\n",
            "it out, and generally lose so much time. I like to have everything within my reach. Vince: There's\n",
            "no better wardrobe than the armchair, right? XD Kyle: I prefer the floor. There's more space on it\n",
            ":D Megan: Just reading this gives me the creeps. Kyle: Fine, go back to cleaning, we'll think of you\n",
            "while sh\n",
            "... [truncated]\n",
            "\n",
            "- Reference summary -\n",
            "Roseanne wanted to go out for a beer with Kyle and Vince, and leave her kids with Megan.  Megan will\n",
            "clean the house and give Roseanne's kids her famous chocolate cookies if they help, what made\n",
            "Roseanne change her mind, and she wants to join them.\n",
            "\n",
            "- Model summary -\n",
            "megan is cleaning the house today. she hates it when it's dirty. she's angry with her brother for\n",
            "leaving a mess in the kitchen. kyle's dad is away this weekend, so he's going back to work. megan is\n",
            "going to go out for a drink with him.\n",
            "========================================================================================================================\n",
            "\n",
            "========================================================================================================================\n",
            "idx=25 | dialogue_len=831 chars\n",
            "\n",
            "- Dialogue -\n",
            "Olivia: Hey Carter, are you still developing that restaurant business? Carter: Hi Olivia Carter:\n",
            "Yes, we want to launch next month :) Olivia: Next month? That's soon! Congrats :) Carter: thanks,\n",
            "I'm a bit nervous but I seriously believe we're delivering something innovative and needed Olivia: I\n",
            "think it's a great concept and I am sure you'll do great! Olivia: I am currently involved with a new\n",
            "restaurant in the city centre Carter: Which one? Olivia: Spicy and chilled Carter: I heard about it\n",
            ":) Is it any good? ;) Olivia: I love the restaurant and really like working there Carter: good for\n",
            "you! Olivia: and here's the question - are you still looking for restaurant to include in your\n",
            "discount app? Carter: sure, but I think it would be better to discuss it in person - would you like\n",
            "to meet up? Olivia: That would be great!\n",
            "\n",
            "- Reference summary -\n",
            "Carter is launching a restaurant business next month. Olivia wants him to include a restaurant she's\n",
            "working for in the discount app. They will meet in person to discuss it.\n",
            "\n",
            "- Model summary -\n",
            "olivia is working with a new restaurant in the city centre. she wants to launch a restaurant in city\n",
            "centre next month. she is still looking for restaurant to include in her discount app. carter is\n",
            "looking for a restaurant to be included in his discount app, which would be good for olivia.\n",
            "========================================================================================================================\n"
          ]
        }
      ]
    },
    {
      "cell_type": "markdown",
      "source": [
        "## Sample Analysis – idx=654\n",
        "\n",
        "For this dialogue, the reference summary provided by a human is: “IQ decreases by 20% after a 2-week holiday.” While factually aligned with George’s statement, it misses the conversational nuance: the original remark was clearly intended as a joke, not as an informational fact. The reference therefore misrepresents the tone, reducing entertainment to an apparently serious claim.\n",
        "\n",
        "The model-generated summary correctly captures the central phrase (“IQ decreases by 20% after a 2-week holiday”), but then introduces distortions (“IQ is 20% faster after a two-week break”), unnecessary speculation about Pete, and stylistic issues such as verbosity and lowercasing. This highlights the model’s tendency to hallucinate details and produce longer outputs than expected for SAMSum’s concise format.\n",
        "\n",
        "Overall, the model demonstrates partial success in echoing the main point, but both human and machine summaries fail to preserve the humorous intent of the dialogue. This sample illustrates the twin challenges of faithfulness (avoiding hallucinations and numeric errors) and pragmatic understanding (recognizing humor vs. information)."
      ],
      "metadata": {
        "id": "NVy4v_lBEgqR"
      }
    },
    {
      "cell_type": "markdown",
      "source": [
        "## Sample Analysis – idx=114\n",
        "\n",
        "The reference summary here is factually problematic: it invents details about Roseanne leaving her kids with Megan and chocolate cookies, none of which are present in the dialogue. This shows that even human annotations may stray from the original exchange, introducing fabricated storylines.\n",
        "\n",
        "The model-generated summary performs somewhat better, as it at least centers on Megan cleaning the house and mentions her frustration with messiness—points that are grounded in the dialogue. However, it introduces its own inaccuracies (“Kyle’s dad is away this weekend” and “Megan is going to go out for a drink”), which are not supported by the conversation. Like in the previous case, the model mixes relevant fragments with hallucinations and tends toward verbose, multi-sentence outputs.\n",
        "\n",
        "The human reference summary also misses the conversational intent. The dialogue is not about Roseanne wanting to go for drinks, but about her explaining why her house is always messy yet she still cannot tolerate dirt. The humor and contrast between cleaning habits are central, not a plan for drinks or childcare.\n",
        "\n",
        "Taken together, this example highlights two challenges: noisy or inconsistent human references in SAMSum, and the model’s ongoing struggle with faithfulness, especially in avoiding invented family details or plans."
      ],
      "metadata": {
        "id": "eD73ImYfFiI9"
      }
    },
    {
      "cell_type": "markdown",
      "source": [
        "## Sample Analysis – idx=25\n",
        "\n",
        "The reference summary is clear and largely faithful: it captures Carter’s upcoming restaurant launch, Olivia’s involvement with another restaurant, her interest in the discount app, and their agreement to meet in person. It condenses the dialogue into the essential actions without drifting into invented details.\n",
        "\n",
        "The model-generated summary partially succeeds but blurs roles and facts. It correctly notes Olivia’s work with a new restaurant and mentions the discount app, yet mistakenly attributes the launch to her instead of Carter (“she wants to launch a restaurant in city centre next month”). The output also becomes repetitive, rephrasing the discount app point multiple times.\n",
        "\n",
        "Overall, this example shows the model can capture salient entities and themes (restaurants, launch, discount app) but struggles with role attribution and redundancy. In contrast to the previous two samples, the human reference here is strong and highlights how the model still falls short in precision despite capturing the right context."
      ],
      "metadata": {
        "id": "uAhCLtTGGOoR"
      }
    },
    {
      "cell_type": "markdown",
      "source": [
        "## Final Obersavtions - Metric Impact\n",
        "\n",
        "Across the three validation samples (idx=654, 114, 25), the analysis shows a consistent pattern: the model is able to capture key entities and main themes, but struggles with faithfulness, brevity, and pragmatic understanding of conversational tone.\n",
        "\n",
        "Taken together, these examples illustrate that the model is strong at identifying what the dialogue is about (restaurants, cleaning, IQ joke) but weak at preserving how it is said (humor vs. fact) and who is doing what. For production use, improvements should focus on decoding strategies that encourage shorter, more precise outputs and mechanisms to enforce fact and role consistency. The human summary does not help for the training o the model.\n",
        "\n",
        "For future iterations, the following adjustments could be recommended to improve output quality:\n",
        "\n",
        "Conciseness: length_penalty = 0.6 and max_new_tokens = 32\n",
        "\n",
        "Faithfulness / Consistency: repetition_penalty = 1.1 and simple post-checks for numeric fidelity.\n",
        "\n",
        "Alternative Decoding: Enable sampling for more natural summaries like do_sample = True; top_p = 0.9; temperature = 0.7; or num_beams = 1\n",
        "\n",
        "This final step completes the Phase A qualitative inspection: the model produces plausible but sometimes verbose or inaccurate summaries. Quantitative metrics such as ROUGE were already computed in Project_Variant_2, so this section focuses on qualitative analysis and actionable decoding improvements."
      ],
      "metadata": {
        "id": "DfEk56N6HI1b"
      }
    },
    {
      "cell_type": "markdown",
      "source": [
        "# Phase B - Results\n",
        "\n",
        "**Applying Phase B Decoding Settings to Case Studies**\n",
        "\n",
        "Up to this point, I evaluated the model’s outputs on three selected validation samples (idx=654, 114, 25) using the default decoding parameters. In Phase B, I optimized decoding strategy (beam size, length penalty, no-repeat n-gram size, and maximum generation length) across the full validation set. The best configuration achieved ROUGE-Lsum ≈ 0.2483 with the following settings:\n",
        "\n",
        "num_beams = 6\n",
        "\n",
        "length_penalty = 1.0\n",
        "\n",
        "no_repeat_ngram_size = 3\n",
        "\n",
        "max_new_tokens = 64\n",
        "\n",
        "The next step is to re-generate summaries for the same three case studies using this optimized decoding setup. This allows a direct comparison between the Phase A outputs and the improved Phase B decoding, showing how inference-time choices alone can refine quality and reduce errors without any retraining."
      ],
      "metadata": {
        "id": "Ms8usgnSKqSl"
      }
    },
    {
      "cell_type": "code",
      "source": [
        "PHASE_B = dict(\n",
        "    num_beams=6,\n",
        "    length_penalty=1.0,\n",
        "    no_repeat_ngram_size=3,\n",
        "    max_new_tokens=64,\n",
        "    early_stopping=True,\n",
        ")"
      ],
      "metadata": {
        "id": "cKQDErSmUnoN"
      },
      "execution_count": 11,
      "outputs": []
    },
    {
      "cell_type": "code",
      "source": [
        "# Update the model's generation_config so defaults are set\n",
        "best_model.generation_config.num_beams            = 6\n",
        "best_model.generation_config.length_penalty       = 1.0\n",
        "best_model.generation_config.no_repeat_ngram_size = 3\n",
        "best_model.generation_config.max_new_tokens       = 64\n",
        "best_model.generation_config.early_stopping       = True"
      ],
      "metadata": {
        "id": "bgfvrghLM70U"
      },
      "execution_count": 12,
      "outputs": []
    },
    {
      "cell_type": "code",
      "source": [
        "dataset = load_dataset(\"knkarthick/samsum\")\n",
        "\n",
        "def wrap(text, width=100):\n",
        "    import textwrap\n",
        "    return \"\\n\".join(textwrap.wrap(text, width))\n",
        "\n",
        "def generate_summary_phaseB(dialogue: str, max_input_len=512):\n",
        "    inputs = tokenizer(\n",
        "        dialogue,\n",
        "        return_tensors=\"pt\",\n",
        "        truncation=True,\n",
        "        padding=True,\n",
        "        max_length=max_input_len,\n",
        "    ) #.to(device)\n",
        "    with torch.no_grad():\n",
        "        # Pass Phase B params explicitly to be 100% sure they’re used\n",
        "        generated_ids = best_model.generate(\n",
        "            **inputs,\n",
        "            num_beams=PHASE_B[\"num_beams\"],\n",
        "            length_penalty=PHASE_B[\"length_penalty\"],\n",
        "            no_repeat_ngram_size=PHASE_B[\"no_repeat_ngram_size\"],\n",
        "            max_new_tokens=PHASE_B[\"max_new_tokens\"],\n",
        "            early_stopping=PHASE_B[\"early_stopping\"],\n",
        "        )\n",
        "    return tokenizer.decode(generated_ids[0], skip_special_tokens=True)"
      ],
      "metadata": {
        "id": "egbYSeScUULa"
      },
      "execution_count": 13,
      "outputs": []
    },
    {
      "cell_type": "code",
      "source": [
        "# Re-run the three examples with Phase B decoding\n",
        "indices = [654, 114, 25]\n",
        "for idx in indices:\n",
        "    dlg = validation[idx][\"dialogue\"]\n",
        "    ref = validation[idx][\"summary\"]\n",
        "    pred = generate_summary_phaseB(dlg)\n",
        "\n",
        "    print(\"\\n\" + \"=\"*120)\n",
        "    print(f\"idx={idx} | dialogue_len={len(dlg)} chars\")\n",
        "    print(\"\\n- Dialogue -\")\n",
        "    print(wrap(dlg[:1200]))\n",
        "    if len(dlg) > 1200:\n",
        "        print(\"... [truncated]\")\n",
        "    print(\"\\n- Reference summary -\")\n",
        "    print(wrap(ref))\n",
        "    print(\"\\n- Model summary (Phase B) -\")\n",
        "    print(wrap(pred))\n",
        "    print(\"=\"*120)"
      ],
      "metadata": {
        "colab": {
          "base_uri": "https://localhost:8080/"
        },
        "id": "iULznTngUy3T",
        "outputId": "d7ddbd09-aef4-4739-8c25-b0e0cacbf7c3"
      },
      "execution_count": 14,
      "outputs": [
        {
          "output_type": "stream",
          "name": "stdout",
          "text": [
            "\n",
            "========================================================================================================================\n",
            "idx=654 | dialogue_len=154 chars\n",
            "\n",
            "- Dialogue -\n",
            "George: Fun fact time XD George: IQ decreases by 20% after a 2-week holiday Pete: lol  Matt: haha\n",
            "wonder what happens after a gap year xD Pete: <file_gif>\n",
            "\n",
            "- Reference summary -\n",
            "IQ decreases by 20% after a 2-week holiday.\n",
            "\n",
            "- Model summary (Phase B) -\n",
            "george's iq decreases by 20 % after a 2 - week holiday. he's looking forward to the fun fact that iq\n",
            "is 20 % faster after a two - week break. matt and matt want to know what happens after a gap year.\n",
            "they're happy about it.\n",
            "========================================================================================================================\n",
            "\n",
            "========================================================================================================================\n",
            "idx=114 | dialogue_len=2672 chars\n",
            "\n",
            "- Dialogue -\n",
            "Kyle: Who wants to go out for a drink? Megan: No, sorry, I'm cleaning the house today. Roseanne:\n",
            "You've always loved cleaning, haven't you? I remember how angry you used to get with your brother\n",
            "for leaving a mess in the kitchen. Vince: Yeah, she'd always yell at me, even though I was the one\n",
            "in charge when our parents were away. Kyle: I don't get why it matters so much whether I clean my\n",
            "flat once a week or once a month. No one died from a bit of dust. Megan: Remind me to never stay at\n",
            "your place :P Roseanne: I'm somewhere in between. My house is always a mess, but I hate it when it's\n",
            "dirty. Vince: What's the difference? Roseanne: I can't stand when there's dust, crumbs on the floor\n",
            "etc., so I clean regularly. But I love it when all my stuff just lies around. When I put everything\n",
            "back on shelves or into cabinets, I keep on getting mad that I have to look for it, get up and take\n",
            "it out, and generally lose so much time. I like to have everything within my reach. Vince: There's\n",
            "no better wardrobe than the armchair, right? XD Kyle: I prefer the floor. There's more space on it\n",
            ":D Megan: Just reading this gives me the creeps. Kyle: Fine, go back to cleaning, we'll think of you\n",
            "while sh\n",
            "... [truncated]\n",
            "\n",
            "- Reference summary -\n",
            "Roseanne wanted to go out for a beer with Kyle and Vince, and leave her kids with Megan.  Megan will\n",
            "clean the house and give Roseanne's kids her famous chocolate cookies if they help, what made\n",
            "Roseanne change her mind, and she wants to join them.\n",
            "\n",
            "- Model summary (Phase B) -\n",
            "megan is cleaning the house today. she hates it when it's dirty. she's angry with her brother for\n",
            "leaving a mess in the kitchen. kyle's dad is away this weekend, so he's going to go out for a drink\n",
            "with his children.\n",
            "========================================================================================================================\n",
            "\n",
            "========================================================================================================================\n",
            "idx=25 | dialogue_len=831 chars\n",
            "\n",
            "- Dialogue -\n",
            "Olivia: Hey Carter, are you still developing that restaurant business? Carter: Hi Olivia Carter:\n",
            "Yes, we want to launch next month :) Olivia: Next month? That's soon! Congrats :) Carter: thanks,\n",
            "I'm a bit nervous but I seriously believe we're delivering something innovative and needed Olivia: I\n",
            "think it's a great concept and I am sure you'll do great! Olivia: I am currently involved with a new\n",
            "restaurant in the city centre Carter: Which one? Olivia: Spicy and chilled Carter: I heard about it\n",
            ":) Is it any good? ;) Olivia: I love the restaurant and really like working there Carter: good for\n",
            "you! Olivia: and here's the question - are you still looking for restaurant to include in your\n",
            "discount app? Carter: sure, but I think it would be better to discuss it in person - would you like\n",
            "to meet up? Olivia: That would be great!\n",
            "\n",
            "- Reference summary -\n",
            "Carter is launching a restaurant business next month. Olivia wants him to include a restaurant she's\n",
            "working for in the discount app. They will meet in person to discuss it.\n",
            "\n",
            "- Model summary (Phase B) -\n",
            "olivia and carter are developing a restaurant in the city centre. they want to launch a new\n",
            "restaurant next month. they are still looking for a restaurant to include in their discount app.\n",
            "they think the restaurant is a good idea and they would like to discuss it in person in person.\n",
            "========================================================================================================================\n"
          ]
        }
      ]
    },
    {
      "cell_type": "markdown",
      "source": [
        "## Sample Analysis – idx=654\n",
        "\n",
        "The reference summary is misleading because it frames George’s playful remark as a factual statement. The dialogue is clearly intended as humor, not information, and the annotation fails to capture that nuance. Since the reference itself is incorrect, we exclude it from the performance analysis.\n",
        "\n",
        "The Phase B output improves over the Phase A version by staying closer to the actual dialogue. It preserves the central claim (“IQ decreases by 20% after a 2-week holiday”) and correctly links the follow-up about a gap year to Matt. Compared to Phase A, it removes the spurious detail about Pete being worried, and while it still introduces a distortion (“IQ is 20% faster”), the hallucinations are fewer and the flow is more coherent.\n",
        "\n",
        "**Comparison to Phase A:**\n",
        "\n",
        "Phase A mixed relevant content with unrelated speculations about Pete and multiple redundant sentences.\n",
        "\n",
        "Phase B still has a factual slip but reduces speculation, trims verbosity, and grounds more of the summary in actual dialogue turns.\n",
        "\n",
        "This shows that decoding optimization improved conciseness and role attribution."
      ],
      "metadata": {
        "id": "02mREvQQVnVO"
      }
    },
    {
      "cell_type": "markdown",
      "source": [
        "## Sample Analysis – idx=114\n",
        "\n",
        "The reference summary is highly inaccurate, introducing fabricated details about Roseanne wanting to go for a beer, leaving kids with Megan, and chocolate cookies. None of these elements exist in the dialogue. The human annotation misses the real intent: the conversation is about cleaning habits and the contrast between cleanliness and messiness, not about planning an outing. Since the reference is unreliable, it cannot be used for a fair performance check.\n",
        "\n",
        "The Phase B output shows partial improvement compared to Phase A. It still identifies Megan’s cleaning and her frustration with dirt—both grounded in the dialogue. However, it introduces new hallucinations, such as “Kyle’s dad is away this weekend” and “he’s going to go out for a drink with his children,” which are not mentioned. Compared with Phase A, verbosity is reduced and the summary is shorter, but factual accuracy issues persist.\n",
        "\n",
        "**Comparison to Phase A:**\n",
        "\n",
        "Phase A fabricated multiple storylines (Megan going out for drinks, Kyle’s dad working, etc.), drifting far from the dialogue.\n",
        "\n",
        "Phase B kept the focus on cleaning habits but still produced unsupported details about family members and outings.\n",
        "\n",
        "Overall, Phase B decoding reduced redundancy and kept the summary more compact, but the model continues to struggle with faithfulness and pragmatic understanding, especially when references themselves are noisy or misleading. The down size is equal bad for Phase A or B"
      ],
      "metadata": {
        "id": "id7oazZxWQbo"
      }
    },
    {
      "cell_type": "markdown",
      "source": [
        "## Sample Analysis – idx=25\n",
        "\n",
        "The reference summary is accurate and concise. It captures Carter’s upcoming restaurant launch, Olivia’s role with another restaurant, her request to include it in the discount app, and their agreement to meet in person.\n",
        "\n",
        "The Phase B output is closer to the truth than Phase A but still introduces distortions. It incorrectly states that Olivia and Carter are developing a restaurant together, whereas only Carter is launching one. The rest of the points—the launch timing, the discount app, and the in-person meeting—are correctly reflected. Compared with Phase A, Phase B reduces redundancy and presents a more coherent structure, though it still repeats phrasing (“in person in person”) and mixes up roles.\n",
        "\n",
        "Comparison to Phase A:\n",
        "\n",
        "Phase A blurred roles more strongly, attributing the launch to Olivia, and repeated the discount app storyline multiple times.\n",
        "\n",
        "Phase B improves conciseness and alignment with the dialogue but still struggles with role attribution and minor repetition errors.\n",
        "\n",
        "Overall, Phase B demonstrates incremental improvement in clarity and brevity, but accuracy in speaker roles remains a key weakness compared to the reliable human reference."
      ],
      "metadata": {
        "id": "XScCMOgzXJnf"
      }
    },
    {
      "cell_type": "markdown",
      "source": [
        "# Global Conclusion\n",
        "\n",
        "Re-evaluating the three selected samples (idx=654, 114, 25) with the optimized decoding settings confirmed that decoding strategy alone can meaningfully influence output quality, even without retraining.\n",
        "\n",
        "Across all three, Phase B outputs were generally shorter, less repetitive, and closer to the dialogue than Phase A. However, persistent issues with faithfulness (hallucinations, role confusion, numeric slips) and pragmatic understanding (tone, humor) remain. These findings reinforce the Phase B validation result: decoding parameters matter as much as training hyperparameters—they can improve precision and readability, but cannot fully correct deeper modeling limitations."
      ],
      "metadata": {
        "id": "3bmo-rRaXYDC"
      }
    },
    {
      "cell_type": "markdown",
      "source": [
        "# Comparisson Metric: Phase A vs. Phase B\n",
        "\n",
        "The progression from Phase A (training sweeps) to Phase B (decoding optimization) shows that inference-time choices can deliver measurable but modest improvements.\n",
        "\n",
        "**Metric comparison:**\n",
        "\n",
        "- Phase A best ROUGE-Lsum: ≈ 0.2475\n",
        "- Phase B best ROUGE-Lsum: ≈ 0.2483\n",
        "\n",
        "This is only a 0.0008 absolute gain (0.3%), a very small numerical improvement.\n",
        "\n",
        "**Why the gain is small:**\n",
        "\n",
        "- The model’s underlying weights (learned in Phase A) already set an upper bound. Decoding can only rearrange probabilities, not change what the model knows.\n",
        "\n",
        "- SAMSum itself contains noisy or misleading reference summaries written by humans (e.g., idx=114, idx=654), which cap how much decoding refinements can register in ROUGE.\n",
        "\n",
        "- ROUGE favors surface-level n-gram overlap. Improvements in coherence, brevity, or reduced hallucination may not always be captured numerically.\n",
        "\n",
        "**Relevant improvements despite small ROUGE gains:**\n",
        "\n",
        "- Conciseness: Phase B outputs were generally shorter (avg gen_len ≈ 44 vs. 47–48 in Phase A).\n",
        "\n",
        "- Reduced redundancy: Lower repetition due to no_repeat_ngram_size=3.\n",
        "\n",
        "- More stable outputs: Beam size = 6 consistently outperformed smaller beams, giving summaries that were less noisy and more coherent.\n",
        "\n",
        "- Qualitative inspection: In the case studies (idx=654, 114, 25), Phase B showed reduced speculation, better grounding, and more compact summaries compared to Phase A, even though some hallucinations persisted.\n",
        "\n",
        "In summary, Phase B confirmed that decoding strategy matters, but also highlighted the limits of inference-only tuning: it can refine precision and readability, but it cannot fix deeper issues of faithfulness, humor detection, or role attribution. These require stronger model architectures, better training data, or post-processing safeguards."
      ],
      "metadata": {
        "id": "FTixSmBlY0Ct"
      }
    },
    {
      "cell_type": "markdown",
      "source": [
        "# Metrics generated during EDA"
      ],
      "metadata": {
        "id": "0zA5MNkX2nZA"
      }
    },
    {
      "cell_type": "markdown",
      "source": [
        "## Length Profile of Generated vs. Human Summaries\n",
        "\n",
        "Recycling the functions from the first notebook and we will take only Validation Sample"
      ],
      "metadata": {
        "id": "lCjLhHBF4JQ_"
      }
    },
    {
      "cell_type": "code",
      "source": [
        "import pandas as pd\n",
        "import torch\n",
        "\n",
        "# Device setup (CPU by default; will use GPU if available)\n",
        "device = torch.device(\"cuda\" if torch.cuda.is_available() else \"cpu\")\n",
        "best_model.to(device)\n",
        "best_model.eval()\n",
        "\n",
        "# Define helpful functions for dialogues and summaries\n",
        "def generate_summary(dialogue: str, max_input_len=512):\n",
        "    \"\"\"Generate a summary for one dialogue using the best_model + tokenizer.\"\"\"\n",
        "    inputs = tokenizer(\n",
        "        dialogue,\n",
        "        return_tensors=\"pt\",\n",
        "        truncation=True,\n",
        "        padding=True,\n",
        "        max_length=max_input_len,\n",
        "    ).to(device)\n",
        "\n",
        "    with torch.no_grad():\n",
        "        generated_ids = best_model.generate(**inputs)\n",
        "    return tokenizer.decode(generated_ids[0], skip_special_tokens=True)\n",
        "\n",
        "# Define helpful functions for dialogues and summaries\n",
        "def word_count(s):\n",
        "    return len(s.split())\n",
        "\n",
        "# Count the number of non-empty lines in a dialogue\n",
        "def num_turns(dialogue):\n",
        "    # count non-empty lines as turns\n",
        "    return sum(1 for line in dialogue.splitlines() if line.strip())\n",
        "\n",
        "# Sample of validation for limitation of resources, it was almost an hour\n",
        "sample_val = validation.select(range(200))\n",
        "\n",
        "# Generate model summaries for the sample\n",
        "gen_summaries = [generate_summary(d) for d in sample_val[\"dialogue\"]]\n",
        "\n",
        "# Build the DataFrame\n",
        "val_stats = pd.DataFrame({\n",
        "    \"dialogue_len_chars\": [len(d) for d in sample_val[\"dialogue\"]],\n",
        "    \"dialogue_len_words\": [word_count(d) for d in sample_val[\"dialogue\"]],\n",
        "    \"turns\": [num_turns(d) for d in sample_val[\"dialogue\"]],\n",
        "    \"summary_len_words\": [word_count(s) for s in sample_val[\"summary\"]],\n",
        "    \"generated_summary_len_words\": [word_count(s) for s in gen_summaries],  # model output\n",
        "})\n",
        "\n",
        "# Preview the results\n",
        "print(val_stats.head())\n",
        "\n",
        "# Save for analysis (optional)\n",
        "val_stats.to_csv(\"validation_with_generated.csv\", index=False)\n",
        "print(\"Saved: validation_with_generated.csv\")\n",
        "\n",
        "# Describe Test\n",
        "stats = val_stats.describe(percentiles=[0.5, 0.75, 0.9, 0.95]).round(2)\n",
        "print(\"=== Basic stats (validation) ===\")\n",
        "print(stats)"
      ],
      "metadata": {
        "colab": {
          "base_uri": "https://localhost:8080/"
        },
        "id": "KUDnL5452xr8",
        "outputId": "dd7dffec-7057-4d47-cfa7-967cd73c8af2"
      },
      "execution_count": 25,
      "outputs": [
        {
          "output_type": "stream",
          "name": "stdout",
          "text": [
            "   dialogue_len_chars  dialogue_len_words  turns  summary_len_words  \\\n",
            "0                 787                 170     17                 28   \n",
            "1                1005                 176     14                 29   \n",
            "2                 957                 165     24                 21   \n",
            "3                1053                 188     24                  9   \n",
            "4                 187                  34      6                 19   \n",
            "\n",
            "   generated_summary_len_words  \n",
            "0                           40  \n",
            "1                           54  \n",
            "2                           42  \n",
            "3                           41  \n",
            "4                           54  \n",
            "Saved: validation_with_generated.csv\n",
            "=== Basic stats (validation) ===\n",
            "       dialogue_len_chars  dialogue_len_words   turns  summary_len_words  \\\n",
            "count              200.00              200.00  200.00             200.00   \n",
            "mean               491.39               91.51   10.77              18.86   \n",
            "std                384.90               73.03    6.05              10.21   \n",
            "min                 65.00               12.00    3.00               4.00   \n",
            "50%                389.00               70.50    9.00              17.00   \n",
            "75%                673.00              122.25   14.00              24.00   \n",
            "90%                975.30              176.40   20.00              33.10   \n",
            "95%               1082.20              212.05   22.05              39.00   \n",
            "max               2672.00              515.00   29.00              57.00   \n",
            "\n",
            "       generated_summary_len_words  \n",
            "count                       200.00  \n",
            "mean                         43.34  \n",
            "std                           4.17  \n",
            "min                          30.00  \n",
            "50%                          44.00  \n",
            "75%                          46.00  \n",
            "90%                          48.00  \n",
            "95%                          49.00  \n",
            "max                          54.00  \n"
          ]
        }
      ]
    },
    {
      "cell_type": "code",
      "source": [
        "# Describe Test OLD it was with a validation sample = 100\n",
        "# stats = val_stats.describe(percentiles=[0.5, 0.75, 0.9, 0.95]).round(2)\n",
        "# print(\"=== Basic stats (validation) ===\")\n",
        "# print(stats)"
      ],
      "metadata": {
        "colab": {
          "base_uri": "https://localhost:8080/"
        },
        "id": "j2qsYhOs9lBY",
        "outputId": "7422d8e9-c543-4372-a77a-a44199c001a8"
      },
      "execution_count": 24,
      "outputs": [
        {
          "output_type": "stream",
          "name": "stdout",
          "text": [
            "=== Basic stats (validation) ===\n",
            "       dialogue_len_chars  dialogue_len_words   turns  summary_len_words  \\\n",
            "count              100.00              100.00  100.00             100.00   \n",
            "mean               458.83               84.35   10.59              18.00   \n",
            "std                282.78               52.39    5.45               9.56   \n",
            "min                 65.00               12.00    3.00               5.00   \n",
            "50%                386.50               71.00    9.50              16.00   \n",
            "75%                665.00              119.25   14.00              22.25   \n",
            "90%                881.10              165.50   18.10              30.00   \n",
            "95%               1005.50              180.30   20.10              37.15   \n",
            "max               1233.00              213.00   26.00              54.00   \n",
            "\n",
            "       generated_summary_len_words  \n",
            "count                       100.00  \n",
            "mean                         43.19  \n",
            "std                           4.74  \n",
            "min                          30.00  \n",
            "50%                          44.00  \n",
            "75%                          47.00  \n",
            "90%                          48.00  \n",
            "95%                          49.15  \n",
            "max                          54.00  \n"
          ]
        }
      ]
    },
    {
      "cell_type": "markdown",
      "source": [
        "On a 200-sample slice of the validation set, model outputs are substantially longer and more uniform than human references. Human summaries average 18.9 words (median 17, std 10.2), while generated summaries average 43.3 words (median 44, std 4.2). That’s roughly 2.3× longer on average (median ratio ≈ 2.6×). Variability is also very different: references range widely (4–57 words), but generations cluster tightly (30–54 words), indicating the decoder is producing near-fixed-length summaries largely governed by generation settings rather than adapting to dialogue complexity (dialogs: mean 91.5 words; median 70.5; median 9 turns).\n",
        "\n",
        "The length mismatch suggests verbosity and repetition risk, which can exacerbate factual slips and role mix-ups without necessarily improving ROUGE. The tight length band aligns with Phase B behavior (best max_new_tokens=64, typical gen length ≈ 45 tokens/≈ 40–48 words). Practically, readers will encounter summaries that are longer than needed for SAMSum’s concise style.\n"
      ],
      "metadata": {
        "id": "4ylpl-o9PWqD"
      }
    },
    {
      "cell_type": "markdown",
      "source": [
        "## Histograms"
      ],
      "metadata": {
        "id": "ZrBECJACQOF2"
      }
    },
    {
      "cell_type": "code",
      "source": [
        "import matplotlib.pyplot as plt\n",
        "\n",
        "# Histogram of human reference summary lengths (validation)\n",
        "plt.figure(figsize=(10, 5))\n",
        "plt.hist(val_stats[\"summary_len_words\"].dropna(), bins=40, color=\"salmon\", edgecolor=\"black\")\n",
        "plt.title(\"Distribution of Reference Summary Lengths (Validation)\", fontsize=14)\n",
        "plt.xlabel(\"Number of Words in Summary\")\n",
        "plt.ylabel(\"Frequency\")\n",
        "plt.grid(axis=\"y\", alpha=0.75)\n",
        "plt.show()\n",
        "\n",
        "# (Optional) Histogram of model-generated summary lengths (validation)\n",
        "plt.figure(figsize=(10, 5))\n",
        "plt.hist(val_stats[\"generated_summary_len_words\"].dropna(), bins=40, color=\"blue\", edgecolor=\"black\")\n",
        "plt.title(\"Distribution of Generated Summary Lengths (Validation)\", fontsize=14)\n",
        "plt.xlabel(\"Number of Words in Generated Summary\")\n",
        "plt.ylabel(\"Frequency\")\n",
        "plt.grid(axis=\"y\", alpha=0.75)\n",
        "plt.show()"
      ],
      "metadata": {
        "colab": {
          "base_uri": "https://localhost:8080/",
          "height": 959
        },
        "id": "MC8d0fs7QQRF",
        "outputId": "375b65e6-4d39-4ca9-da7a-057f66c63da9"
      },
      "execution_count": 28,
      "outputs": [
        {
          "output_type": "display_data",
          "data": {
            "text/plain": [
              "<Figure size 1000x500 with 1 Axes>"
            ],
            "image/png": "[encoded data removed]"
          },
          "metadata": {}
        },
        {
          "output_type": "display_data",
          "data": {
            "text/plain": [
              "<Figure size 1000x500 with 1 Axes>"
            ],
            "image/png": "[encoded data removed]"
          },
          "metadata": {}
        }
      ]
    },
    {
      "cell_type": "markdown",
      "source": [
        "The histogram plots show summaries are consistently longer than human references and not length-adaptive. Tightening and adapting length should reduce redundancy, better match SAMSum’s style, and likely improve perceived quality (and possibly ROUGE-Lsum) without retraining."
      ],
      "metadata": {
        "id": "NMFbenkiQX4p"
      }
    },
    {
      "cell_type": "markdown",
      "source": [
        "## Additional aggregated measures"
      ],
      "metadata": {
        "id": "4mJTMYxOSFQr"
      }
    },
    {
      "cell_type": "code",
      "source": [
        "import numpy as np\n",
        "\n",
        "# Safe copies that avoid divide-by-zero\n",
        "dlg_words = val_stats[\"dialogue_len_words\"].replace(0, np.nan)\n",
        "ref_words = val_stats[\"summary_len_words\"].replace(0, np.nan)\n",
        "gen_words = val_stats[\"generated_summary_len_words\"].replace(0, np.nan)\n",
        "turns     = val_stats[\"turns\"].replace(0, np.nan)\n",
        "\n",
        "avg_words_per_dialogue = dlg_words.mean()\n",
        "avg_words_per_turn     = (dlg_words / turns).mean()\n",
        "comp_ratio_ref_vs_dlg  = (ref_words / dlg_words).mean()                 # reference / dialogue\n",
        "comp_ratio_gen_vs_dlg  = (gen_words / dlg_words).mean()                 # generated / dialogue\n",
        "comp_ratio_gen_vs_ref  = (gen_words / ref_words).mean()                 # generated / reference\n",
        "\n",
        "print(\"=== Aggregated stats (validation) ===\")\n",
        "print(f\"Avg words per dialogue: {avg_words_per_dialogue:.2f}\")\n",
        "print(f\"Avg words per speaker turn: {avg_words_per_turn:.2f}\")\n",
        "print(f\"Avg compression ratio (reference / dialogue): {comp_ratio_ref_vs_dlg:.3f}\")\n",
        "print(f\"Avg compression ratio (generated / dialogue): {comp_ratio_gen_vs_dlg:.3f}\")\n",
        "print(f\"Avg compression ratio (generated / reference): {comp_ratio_gen_vs_ref:.3f}\")"
      ],
      "metadata": {
        "colab": {
          "base_uri": "https://localhost:8080/"
        },
        "id": "bcKYDJ-1TU0M",
        "outputId": "dcf98cc7-2c03-4c96-b989-dd2cb0e14379"
      },
      "execution_count": 29,
      "outputs": [
        {
          "output_type": "stream",
          "name": "stdout",
          "text": [
            "=== Aggregated stats (validation) ===\n",
            "Avg words per dialogue: 91.51\n",
            "Avg words per speaker turn: 8.17\n",
            "Avg compression ratio (reference / dialogue): 0.280\n",
            "Avg compression ratio (generated / dialogue): 0.809\n",
            "Avg compression ratio (generated / reference): 3.063\n"
          ]
        }
      ]
    },
    {
      "cell_type": "markdown",
      "source": [
        "**Summary**\n",
        "\n",
        "Validation spotlight (n=200 for quick diagnostics). This validation slice shows chats average 91.5 words with 8.2 words/turn. Human summaries compress aggressively—~28% of the dialogue length—while the model’s outputs are much longer: ~81% of the dialogue (compression ratio 0.809) and roughly 3.06× the length of human references. In short, the system is producing near “mini-paraphrases” instead of concise summaries, which increases verbosity and the chance of factual drift without improving content coverage.\n",
        "\n",
        "The large generated/reference gap (3.06×) explains why outputs feel wordy and why ROUGE gains remain small: extra words rarely add aligned n-grams.\n",
        "\n",
        "A high generated/dialogue ratio (0.809) indicates weak length control; summaries should typically land around 25–35% of the source for SAMSum-style briefs.\n",
        "\n",
        "On average, the model's summary is 81% of the dialogue length but summaries longr thatn the dialoue can happen for very short chats because the generator produces 40-48 word summaries. Any dialogue shorter than 40 words will often get a “summary”  longer than the source. In practice, that means the model is not compressing; it's expanding/rephrasing and sometimes repeating, which increases reading time and raises the risk of small hallucinations."
      ],
      "metadata": {
        "id": "fXks2ccuUQro"
      }
    },
    {
      "cell_type": "markdown",
      "source": [
        "# How well does the model handle different dialogue scenarios?\n",
        "\n",
        "Short chats (≤40 words): Weak. The model tends to emit 40–48 words regardless of input, so it often over-explains and can be longer than the source. Mitigation: lower max_new_tokens (32–40) or use a length-adaptive cap (≈25% of dialogue words).\n",
        "\n",
        "Medium chats (≈40–120 words, 6–14 turns): Strongest. Outputs are generally coherent and on-topic; small ROUGE gains from Phase B came largely from this band.\n",
        "\n",
        "Long chats (≥120 words or ≥15 turns): Mixed. Risk of role attribution and detail drift rises; the 64-token cap can miss late context. Mitigation: modestly raise cap (to 80–96) or summarize in two passes (chunk → merge).\n",
        "\n",
        "Humor/sarcasm/jokes (e.g., “lol”, “haha”, “xD”, emojis): Weak. The model literalizes jokes as facts; ROUGE is unreliable here because human references are noisy. Mitigation: optional tone tag (detect humor → summarize as “banter/highlights”).\n",
        "\n",
        "Heavy punctuation/emoji/ellipses: Generally robust; punctuation is normalized by the tokenizer. Issues are more about verbosity than punctuation errors.\n",
        "\n",
        "Numbers/percentages present: Watch for numeric drift (“20% decrease” → “20% faster”). Mitigation: light repetition_penalty, numeric copy constraints or a post-check that numbers in the dialogue appear unchanged in the summary.\n",
        "\n",
        "Bottom line: Best on medium, factual chats; weakest on very short, very long, humorous, and number-heavy threads. Most fixes are decoding-only (brevity, caps, repetition control) and can be shipped without retraining."
      ],
      "metadata": {
        "id": "MsmHQvB5J6dH"
      }
    },
    {
      "cell_type": "markdown",
      "source": [
        "# Recommendations for Future Work (with More Resources / Time)\n",
        "\n",
        "With more time and compute, the project can move beyond decoding-only optimization to stronger models, cleaner data, smarter decoding, and richer evaluation—all of which would yield more meaningful improvements than the small ROUGE gains observed in Phase B.\n",
        "\n",
        "**Model-Level Improvements**\n",
        "\n",
        "Fine-tune on SAMSum with other encoder–decoder architectures, which might perform better on abstractive summarization than BERT2BERT.\n",
        "\n",
        "Use a cased variant or apply truecasing during preprocessing to improve style and readability of names and proper nouns.\n",
        "\n",
        "Apply domain-adaptive pretraining (DAPT) to better capture conversational tone and humor.\n",
        "\n",
        "**Data Enhancements**\n",
        "\n",
        "Enforce human-like brevity via adaptive **max_dec_steps**, add light numeric/entity constraints, expand data beyond SAMSum (DialogSum/MediaSum) or upgrade backbones (BART/T5), and track semantic/factual metrics alongside ROUGE.\n",
        "\n",
        "Human references in SAMSum often contain inaccuracies. Building a curated subset with corrected summaries would provide more reliable supervision and evaluation.\n",
        "\n",
        "Using dialogue-to-summary datasets beyond SAMSum (DialogSum, MediaSum) could increase robustness and reduce hallucinations.\n",
        "\n",
        "**Advanced Decoding & Post-Processing**\n",
        "\n",
        "Add lexical constraints to enforce copying of numbers, percentages, or named entities directly from the dialogue to prevent numeric hallucinations.\n",
        "\n",
        "Lightweight regex or entity-matching rules to validate generated facts against the source dialogue (e.g., ensure “20% decrease” isn’t changed to “20% faster”).\n",
        "\n",
        "**Evaluation & Metrics**\n",
        "\n",
        "Complement ROUGE with semantic metrics (BERTScore, BLEURT, QAFactEval) to better capture factual correctness and conversational intent.\n",
        "\n",
        "Ask annotators (interns) to rate factuality, conciseness, and tone preservation, which ROUGE cannot measure.\n",
        "\n",
        "**System-Level Extensions**\n",
        "\n",
        "Allow end-users to set a style preference (concise fact vs. conversational highlight) to adapt decoding dynamically.\n",
        "\n",
        "Train the model to both summarize and classify dialogue tone (informative vs. humorous), helping the system decide whether to preserve humor or condense facts.\n",
        "\n",
        "**Actionable in decoding now** Based on other metrics\n",
        "- Tighten decoding for brevity: lower max_new_tokens (32-40) and consider length_penalty ≈ 0.6\n",
        "- Make length adaptive to each dialogue: target = int(0.25 * dialogue_len_words) plus max_new_tokens = max(16, min(target, 40))\n",
        "- Reduce filler: add a light repetition_penalty (≈ 1.05–1.15) and a post-check for duplicate sentences.\n",
        "- Track faithfulness at human-like compression: report a length-aligned ROUGE slice (subset where generated length ≈ 0.25–0.35× dialogue).\n",
        "\n"
      ],
      "metadata": {
        "id": "XHDoKpU9anIl"
      }
    },
    {
      "cell_type": "code",
      "source": [],
      "metadata": {
        "id": "vAHjyS43VqCv"
      },
      "execution_count": null,
      "outputs": []
    }
  ]
}